{
 "cells": [
  {
   "cell_type": "raw",
   "metadata": {
    "vscode": {
     "languageId": "raw"
    }
   },
   "source": [
    "Conditional Statements:\n",
    "    if\n",
    "    else\n",
    "    if elif ladder\n",
    "    nested if\n"
   ]
  },
  {
   "cell_type": "raw",
   "metadata": {
    "vscode": {
     "languageId": "raw"
    }
   },
   "source": [
    "if cond:\n",
    "    Statement\n"
   ]
  },
  {
   "cell_type": "code",
   "execution_count": 9,
   "metadata": {},
   "outputs": [
    {
     "name": "stdout",
     "output_type": "stream",
     "text": [
      "b\n"
     ]
    }
   ],
   "source": [
    "a = 200\n",
    "b = 200\n",
    "if a > b:\n",
    "    print(a)\n",
    "else:\n",
    "    print('b')"
   ]
  },
  {
   "cell_type": "code",
   "execution_count": 14,
   "metadata": {},
   "outputs": [
    {
     "name": "stdout",
     "output_type": "stream",
     "text": [
      "A>=10\n",
      "A<=10\n",
      "A!=10\n"
     ]
    }
   ],
   "source": [
    "a=10\n",
    "if a>10:\n",
    "    print(\"A>=10\")\n",
    "elif a<10:\n",
    "    print(\"A<=10\")\n",
    "elif a==10:\n",
    "    print(\"A==10\")\n",
    "else:\n",
    "    print(\"A!=10\")\n"
   ]
  },
  {
   "cell_type": "raw",
   "metadata": {
    "vscode": {
     "languageId": "raw"
    }
   },
   "source": [
    "if cond:\n",
    "    if cond:\n",
    "        statement\n",
    "    else:\n",
    "        statement\n",
    "else:\n",
    "    if cond:\n",
    "        statement\n",
    "    else:\n",
    "        statement"
   ]
  },
  {
   "cell_type": "code",
   "execution_count": 18,
   "metadata": {},
   "outputs": [
    {
     "name": "stdout",
     "output_type": "stream",
     "text": [
      "A\n"
     ]
    }
   ],
   "source": [
    "a=1000\n",
    "b=200\n",
    "c=30\n",
    "if a>b:\n",
    "    if a>c:\n",
    "        print(\"A\")\n",
    "    else:\n",
    "        print(\"C\")\n",
    "else:\n",
    "    if b>c:\n",
    "        print(\"B\")\n",
    "    else:\n",
    "        print(\"C\")"
   ]
  },
  {
   "cell_type": "code",
   "execution_count": null,
   "metadata": {},
   "outputs": [],
   "source": [
    "Enter total no of Prod: 100\n",
    "Enter price per prod: 3\n",
    "total: 300\n",
    "dis: 0\n",
    "net: 300"
   ]
  },
  {
   "cell_type": "code",
   "execution_count": null,
   "metadata": {},
   "outputs": [],
   "source": [
    "Enter a char: a\n",
    "Vowel\n",
    "\n",
    "Enter a char: A\n",
    "Vowel\n",
    "\n",
    "Enter a char: b\n",
    "Consonents"
   ]
  },
  {
   "cell_type": "code",
   "execution_count": null,
   "metadata": {},
   "outputs": [],
   "source": [
    "Enter total units consumed: 250\n",
    "units consumed: <= 100: unit = 2\n",
    "units consumed: >100 & <=200 = first 100 = 2, <200 2.5\n",
    "units consumed: >200 & <=300 = first 100 = 2, next 100 2.5, 3.5\n",
    ">300\n",
    "first 100 =2, next = 2.5, next = 3.5, 5"
   ]
  },
  {
   "cell_type": "code",
   "execution_count": null,
   "metadata": {},
   "outputs": [],
   "source": []
  }
 ],
 "metadata": {
  "kernelspec": {
   "display_name": "base",
   "language": "python",
   "name": "python3"
  },
  "language_info": {
   "codemirror_mode": {
    "name": "ipython",
    "version": 3
   },
   "file_extension": ".py",
   "mimetype": "text/x-python",
   "name": "python",
   "nbconvert_exporter": "python",
   "pygments_lexer": "ipython3",
   "version": "3.11.3"
  }
 },
 "nbformat": 4,
 "nbformat_minor": 2
}
